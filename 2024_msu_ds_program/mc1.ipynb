{
 "cells": [
  {
   "cell_type": "markdown",
   "metadata": {},
   "source": [
    "Suppose that there are 10 boxes in a room, and each box has a random unique integer between 1 and 10 hidden inside of it (i.e. no two boxes share the same integer). There are 10 people in another room, and each person has a random unique integer between 1 and 10 stapled to her shirt (i.e. no two people share the same integer). Here's a riddle: Each person is allowed to enter the room with the boxes, which are in a line from the left side of the room to the right side of the room, look inside 5 boxes, and leave the room exactly as she found it before the next person enters. When a person leaves the room that has the boxes, she goes to a private room to wait until everyone else has left the room that has the boxes (i.e. it is impossible for a person to communicate her findings to the other people who have not yet entered the room with the boxes). If all 10 people find their numbers inside the boxes (i.e. Person 1 must look inside the box that contains the number 1, Person 2 must look inside the box the contains the number 2, etc.), then they will each receive a million dollars. If each person randomly selects 5 boxes to look into, then the probability that all 10 of them find their number is  (5/10)10\n",
    " , which is approximately equal to 0.1%. It turns out that they can do much, much better. The people are told that the boxes are in a line from the left side of the room to the right side of the room, and they are allowed to discuss their strategy before they start. What should their strategy be? If you want, you can try to solve this fun riddle, but you don't have to.\n",
    "\n",
    "Here is the answer to the riddle and the prompt for the Monte Carlo problem. The people first make up their own numbering system for the boxes. The box on the far left will be box number 1, the box to the right of that will be box number 2, and so on. Person 1 enters the room with the boxes and looks inside box number 1. If it contains the number 1, then she can exit the room. If it contains any other number,  𝑥\n",
    " , then the next box that she looks inside is box number  𝑥\n",
    "  (i.e. the x 𝑡ℎ\n",
    "  box from the left side of the room). If that box contains the number 1, then she can exit the room. If it contains any other number,  𝑦\n",
    " , then the next box that she looks inside is box number  𝑦\n",
    "  (i.e. the y 𝑡ℎ\n",
    "  box from the left side of the room). She continues this process until she has looked inside 5 boxes. After Person 1 has exited the room, Person 2 enters the room and does the exact same thing, except that she starts by looking inside box number 2 (instead of box number 1). After Person 2 has exited, Person 3 enters the room and does the exact same thing, except that she starts by looking inside box number 3 (instead of boxes number 1 or 2). And so on, until all 10 people have exited the room.\n",
    "\n",
    "What is the probability that all 10 people look inside the box that contains their number? Set the variable prob_of_success equal to your answer. Your answer should be in decimal form. In order to be graded as correct it must be within 0.001 of the correct answer (i.e. if the correct answer is 0.4581 (it isn't really), then any answer between 0.4571 and 0.4591 would be graded as correct)."
   ]
  },
  {
   "cell_type": "code",
   "execution_count": 1,
   "metadata": {},
   "outputs": [],
   "source": [
    "import random"
   ]
  },
  {
   "cell_type": "code",
   "execution_count": 15,
   "metadata": {},
   "outputs": [],
   "source": [
    "nboxes = 10\n",
    "def one_run():\n",
    "    # generate a random permutation\n",
    "    box_numbers = random.sample(list(range(nboxes)), nboxes)\n",
    "    person_success = [False for i in range(10)]\n",
    "    for person_id in range(10):\n",
    "        current_box_idx = person_id # initial box\n",
    "        for i in range(5):\n",
    "            if box_numbers[current_box_idx] == person_id:\n",
    "                person_success[person_id] = True\n",
    "                break\n",
    "            else:\n",
    "                current_box_idx = box_numbers[current_box_idx]\n",
    "    # if all people succeed\n",
    "    if all(person_success):\n",
    "        return 1\n",
    "    \n",
    "    return 0\n"
   ]
  },
  {
   "cell_type": "code",
   "execution_count": 16,
   "metadata": {},
   "outputs": [
    {
     "name": "stdout",
     "output_type": "stream",
     "text": [
      "0.35374\n"
     ]
    }
   ],
   "source": [
    "nruns = int(1e6)\n",
    "run_results = [one_run() for _ in range(nruns)]\n",
    "prob_of_success = sum(run_results)/nruns\n",
    "print(prob_of_success)"
   ]
  },
  {
   "cell_type": "code",
   "execution_count": null,
   "metadata": {},
   "outputs": [],
   "source": []
  }
 ],
 "metadata": {
  "kernelspec": {
   "display_name": "conda-forge",
   "language": "python",
   "name": "python3"
  },
  "language_info": {
   "codemirror_mode": {
    "name": "ipython",
    "version": 3
   },
   "file_extension": ".py",
   "mimetype": "text/x-python",
   "name": "python",
   "nbconvert_exporter": "python",
   "pygments_lexer": "ipython3",
   "version": "3.12.1"
  }
 },
 "nbformat": 4,
 "nbformat_minor": 2
}
